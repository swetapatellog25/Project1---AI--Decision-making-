{
 "cells": [
  {
   "cell_type": "markdown",
   "metadata": {},
   "source": [
    "## Model Data using Cassandra\n",
    "\n",
    "\n",
    "### Please just submit this notebook in the Submission and make sure each cell has been executed and output is clearly displayed.\n",
    "\n",
    "### The aim of the project is to solve the three queries given below."
   ]
  },
  {
   "cell_type": "markdown",
   "metadata": {},
   "source": [
    "### Introduction\n",
    "\n",
    "There is a music streaming app called SoundCloud, that has been using their music streaming app and collecting data on songs and user activity and their aim is to analyze this data especially understanding what songs users are listening to. Currently, they are not making use of a NoSQL db and they have the data stored as a CSV file, thus its difficult for them to query the data. So our task is to create a NoSQL database for helping them with the analysis."
   ]
  },
  {
   "cell_type": "code",
   "execution_count": 39,
   "metadata": {},
   "outputs": [
    {
     "name": "stdout",
     "output_type": "stream",
     "text": [
      "Requirement already satisfied: cassandra-driver in c:\\programdata\\anaconda3\\lib\\site-packages (3.25.0)\n",
      "Requirement already satisfied: geomet<0.3,>=0.1 in c:\\programdata\\anaconda3\\lib\\site-packages (from cassandra-driver) (0.2.1.post1)\n",
      "Requirement already satisfied: six>=1.9 in c:\\programdata\\anaconda3\\lib\\site-packages (from cassandra-driver) (1.15.0)\n",
      "Requirement already satisfied: click in c:\\programdata\\anaconda3\\lib\\site-packages (from geomet<0.3,>=0.1->cassandra-driver) (7.1.2)\n"
     ]
    }
   ],
   "source": [
    "! pip install cassandra-driver"
   ]
  },
  {
   "cell_type": "markdown",
   "metadata": {},
   "source": [
    "#### Import Packages "
   ]
  },
  {
   "cell_type": "code",
   "execution_count": 1,
   "metadata": {},
   "outputs": [
    {
     "data": {
      "text/html": [
       "<div>\n",
       "<style scoped>\n",
       "    .dataframe tbody tr th:only-of-type {\n",
       "        vertical-align: middle;\n",
       "    }\n",
       "\n",
       "    .dataframe tbody tr th {\n",
       "        vertical-align: top;\n",
       "    }\n",
       "\n",
       "    .dataframe thead th {\n",
       "        text-align: right;\n",
       "    }\n",
       "</style>\n",
       "<table border=\"1\" class=\"dataframe\">\n",
       "  <thead>\n",
       "    <tr style=\"text-align: right;\">\n",
       "      <th></th>\n",
       "      <th>artist_name</th>\n",
       "      <th>fname</th>\n",
       "      <th>gender</th>\n",
       "      <th>item_in_session_number</th>\n",
       "      <th>lname</th>\n",
       "      <th>length</th>\n",
       "      <th>level</th>\n",
       "      <th>location</th>\n",
       "      <th>session_number</th>\n",
       "      <th>song_title</th>\n",
       "      <th>user_id</th>\n",
       "    </tr>\n",
       "  </thead>\n",
       "  <tbody>\n",
       "    <tr>\n",
       "      <th>0</th>\n",
       "      <td>Pavement</td>\n",
       "      <td>Sylvie</td>\n",
       "      <td>F</td>\n",
       "      <td>0</td>\n",
       "      <td>Cruz</td>\n",
       "      <td>99.16036</td>\n",
       "      <td>free</td>\n",
       "      <td>Washington-Arlington-Alexandria, DC-VA-MD-WV</td>\n",
       "      <td>345</td>\n",
       "      <td>Mercy:The Laundromat</td>\n",
       "      <td>10</td>\n",
       "    </tr>\n",
       "    <tr>\n",
       "      <th>1</th>\n",
       "      <td>Barry Tuckwell/Academy of St Martin-in-the-Fie...</td>\n",
       "      <td>Celeste</td>\n",
       "      <td>F</td>\n",
       "      <td>1</td>\n",
       "      <td>Williams</td>\n",
       "      <td>277.15873</td>\n",
       "      <td>free</td>\n",
       "      <td>Klamath Falls, OR</td>\n",
       "      <td>438</td>\n",
       "      <td>Horn Concerto No. 4 in E flat K495: II. Romanc...</td>\n",
       "      <td>53</td>\n",
       "    </tr>\n",
       "    <tr>\n",
       "      <th>2</th>\n",
       "      <td>Gary Allan</td>\n",
       "      <td>Celeste</td>\n",
       "      <td>F</td>\n",
       "      <td>2</td>\n",
       "      <td>Williams</td>\n",
       "      <td>211.22567</td>\n",
       "      <td>free</td>\n",
       "      <td>Klamath Falls, OR</td>\n",
       "      <td>438</td>\n",
       "      <td>Nothing On But The Radio</td>\n",
       "      <td>53</td>\n",
       "    </tr>\n",
       "    <tr>\n",
       "      <th>3</th>\n",
       "      <td>Charttraxx Karaoke</td>\n",
       "      <td>Celeste</td>\n",
       "      <td>F</td>\n",
       "      <td>3</td>\n",
       "      <td>Williams</td>\n",
       "      <td>225.17506</td>\n",
       "      <td>free</td>\n",
       "      <td>Klamath Falls, OR</td>\n",
       "      <td>438</td>\n",
       "      <td>Fireflies</td>\n",
       "      <td>53</td>\n",
       "    </tr>\n",
       "    <tr>\n",
       "      <th>4</th>\n",
       "      <td>The Libertines</td>\n",
       "      <td>Jacqueline</td>\n",
       "      <td>F</td>\n",
       "      <td>1</td>\n",
       "      <td>Lynch</td>\n",
       "      <td>179.53914</td>\n",
       "      <td>paid</td>\n",
       "      <td>Atlanta-Sandy Springs-Roswell, GA</td>\n",
       "      <td>389</td>\n",
       "      <td>The Good Old Days</td>\n",
       "      <td>29</td>\n",
       "    </tr>\n",
       "    <tr>\n",
       "      <th>...</th>\n",
       "      <td>...</td>\n",
       "      <td>...</td>\n",
       "      <td>...</td>\n",
       "      <td>...</td>\n",
       "      <td>...</td>\n",
       "      <td>...</td>\n",
       "      <td>...</td>\n",
       "      <td>...</td>\n",
       "      <td>...</td>\n",
       "      <td>...</td>\n",
       "      <td>...</td>\n",
       "    </tr>\n",
       "    <tr>\n",
       "      <th>6815</th>\n",
       "      <td>Aventura</td>\n",
       "      <td>Jacob</td>\n",
       "      <td>M</td>\n",
       "      <td>50</td>\n",
       "      <td>Klein</td>\n",
       "      <td>278.04689</td>\n",
       "      <td>paid</td>\n",
       "      <td>Tampa-St. Petersburg-Clearwater, FL</td>\n",
       "      <td>954</td>\n",
       "      <td>Peligro</td>\n",
       "      <td>73</td>\n",
       "    </tr>\n",
       "    <tr>\n",
       "      <th>6816</th>\n",
       "      <td>Die Sekte</td>\n",
       "      <td>Layla</td>\n",
       "      <td>F</td>\n",
       "      <td>86</td>\n",
       "      <td>Griffin</td>\n",
       "      <td>206.18404</td>\n",
       "      <td>paid</td>\n",
       "      <td>Lake Havasu City-Kingman, AZ</td>\n",
       "      <td>984</td>\n",
       "      <td>Mittelfinga ab feat. Sido_ MOK_ B-Tight_ Bendt</td>\n",
       "      <td>24</td>\n",
       "    </tr>\n",
       "    <tr>\n",
       "      <th>6817</th>\n",
       "      <td>Kid Dynamite</td>\n",
       "      <td>Jacob</td>\n",
       "      <td>M</td>\n",
       "      <td>51</td>\n",
       "      <td>Klein</td>\n",
       "      <td>119.95383</td>\n",
       "      <td>paid</td>\n",
       "      <td>Tampa-St. Petersburg-Clearwater, FL</td>\n",
       "      <td>954</td>\n",
       "      <td>Never Met The Gooch</td>\n",
       "      <td>73</td>\n",
       "    </tr>\n",
       "    <tr>\n",
       "      <th>6818</th>\n",
       "      <td>Eminem / Bizarre</td>\n",
       "      <td>Jacob</td>\n",
       "      <td>M</td>\n",
       "      <td>52</td>\n",
       "      <td>Klein</td>\n",
       "      <td>244.55791</td>\n",
       "      <td>paid</td>\n",
       "      <td>Tampa-St. Petersburg-Clearwater, FL</td>\n",
       "      <td>954</td>\n",
       "      <td>Amityville</td>\n",
       "      <td>73</td>\n",
       "    </tr>\n",
       "    <tr>\n",
       "      <th>6819</th>\n",
       "      <td>Explosions In The Sky</td>\n",
       "      <td>Layla</td>\n",
       "      <td>F</td>\n",
       "      <td>87</td>\n",
       "      <td>Griffin</td>\n",
       "      <td>220.34240</td>\n",
       "      <td>paid</td>\n",
       "      <td>Lake Havasu City-Kingman, AZ</td>\n",
       "      <td>984</td>\n",
       "      <td>So Long_ Lonesome</td>\n",
       "      <td>24</td>\n",
       "    </tr>\n",
       "  </tbody>\n",
       "</table>\n",
       "<p>6820 rows × 11 columns</p>\n",
       "</div>"
      ],
      "text/plain": [
       "                                            artist_name       fname gender  \\\n",
       "0                                              Pavement      Sylvie      F   \n",
       "1     Barry Tuckwell/Academy of St Martin-in-the-Fie...     Celeste      F   \n",
       "2                                            Gary Allan     Celeste      F   \n",
       "3                                    Charttraxx Karaoke     Celeste      F   \n",
       "4                                        The Libertines  Jacqueline      F   \n",
       "...                                                 ...         ...    ...   \n",
       "6815                                           Aventura       Jacob      M   \n",
       "6816                                          Die Sekte       Layla      F   \n",
       "6817                                       Kid Dynamite       Jacob      M   \n",
       "6818                                   Eminem / Bizarre       Jacob      M   \n",
       "6819                              Explosions In The Sky       Layla      F   \n",
       "\n",
       "      item_in_session_number     lname     length level  \\\n",
       "0                          0      Cruz   99.16036  free   \n",
       "1                          1  Williams  277.15873  free   \n",
       "2                          2  Williams  211.22567  free   \n",
       "3                          3  Williams  225.17506  free   \n",
       "4                          1     Lynch  179.53914  paid   \n",
       "...                      ...       ...        ...   ...   \n",
       "6815                      50     Klein  278.04689  paid   \n",
       "6816                      86   Griffin  206.18404  paid   \n",
       "6817                      51     Klein  119.95383  paid   \n",
       "6818                      52     Klein  244.55791  paid   \n",
       "6819                      87   Griffin  220.34240  paid   \n",
       "\n",
       "                                          location  session_number  \\\n",
       "0     Washington-Arlington-Alexandria, DC-VA-MD-WV             345   \n",
       "1                                Klamath Falls, OR             438   \n",
       "2                                Klamath Falls, OR             438   \n",
       "3                                Klamath Falls, OR             438   \n",
       "4                Atlanta-Sandy Springs-Roswell, GA             389   \n",
       "...                                            ...             ...   \n",
       "6815           Tampa-St. Petersburg-Clearwater, FL             954   \n",
       "6816                  Lake Havasu City-Kingman, AZ             984   \n",
       "6817           Tampa-St. Petersburg-Clearwater, FL             954   \n",
       "6818           Tampa-St. Petersburg-Clearwater, FL             954   \n",
       "6819                  Lake Havasu City-Kingman, AZ             984   \n",
       "\n",
       "                                             song_title  user_id  \n",
       "0                                  Mercy:The Laundromat       10  \n",
       "1     Horn Concerto No. 4 in E flat K495: II. Romanc...       53  \n",
       "2                              Nothing On But The Radio       53  \n",
       "3                                             Fireflies       53  \n",
       "4                                     The Good Old Days       29  \n",
       "...                                                 ...      ...  \n",
       "6815                                            Peligro       73  \n",
       "6816     Mittelfinga ab feat. Sido_ MOK_ B-Tight_ Bendt       24  \n",
       "6817                                Never Met The Gooch       73  \n",
       "6818                                         Amityville       73  \n",
       "6819                                  So Long_ Lonesome       24  \n",
       "\n",
       "[6820 rows x 11 columns]"
      ]
     },
     "execution_count": 1,
     "metadata": {},
     "output_type": "execute_result"
    }
   ],
   "source": [
    "import pandas as pd\n",
    "import numpy as np\n",
    "import cassandra\n",
    "import csv\n",
    "df = pd.read_csv('event_data.csv')\n",
    "df"
   ]
  },
  {
   "cell_type": "code",
   "execution_count": 2,
   "metadata": {},
   "outputs": [
    {
     "data": {
      "text/html": [
       "<div>\n",
       "<style scoped>\n",
       "    .dataframe tbody tr th:only-of-type {\n",
       "        vertical-align: middle;\n",
       "    }\n",
       "\n",
       "    .dataframe tbody tr th {\n",
       "        vertical-align: top;\n",
       "    }\n",
       "\n",
       "    .dataframe thead th {\n",
       "        text-align: right;\n",
       "    }\n",
       "</style>\n",
       "<table border=\"1\" class=\"dataframe\">\n",
       "  <thead>\n",
       "    <tr style=\"text-align: right;\">\n",
       "      <th></th>\n",
       "      <th>artist_name</th>\n",
       "      <th>fname</th>\n",
       "      <th>gender</th>\n",
       "      <th>item_in_session_number</th>\n",
       "      <th>lname</th>\n",
       "      <th>length</th>\n",
       "      <th>level</th>\n",
       "      <th>location</th>\n",
       "      <th>session_number</th>\n",
       "      <th>song_title</th>\n",
       "      <th>user_id</th>\n",
       "    </tr>\n",
       "  </thead>\n",
       "  <tbody>\n",
       "    <tr>\n",
       "      <th>0</th>\n",
       "      <td>Pavement</td>\n",
       "      <td>Sylvie</td>\n",
       "      <td>F</td>\n",
       "      <td>0</td>\n",
       "      <td>Cruz</td>\n",
       "      <td>99.16036</td>\n",
       "      <td>free</td>\n",
       "      <td>Washington-Arlington-Alexandria, DC-VA-MD-WV</td>\n",
       "      <td>345</td>\n",
       "      <td>Mercy:The Laundromat</td>\n",
       "      <td>10</td>\n",
       "    </tr>\n",
       "    <tr>\n",
       "      <th>1</th>\n",
       "      <td>Barry Tuckwell/Academy of St Martin-in-the-Fie...</td>\n",
       "      <td>Celeste</td>\n",
       "      <td>F</td>\n",
       "      <td>1</td>\n",
       "      <td>Williams</td>\n",
       "      <td>277.15873</td>\n",
       "      <td>free</td>\n",
       "      <td>Klamath Falls, OR</td>\n",
       "      <td>438</td>\n",
       "      <td>Horn Concerto No. 4 in E flat K495: II. Romanc...</td>\n",
       "      <td>53</td>\n",
       "    </tr>\n",
       "    <tr>\n",
       "      <th>2</th>\n",
       "      <td>Gary Allan</td>\n",
       "      <td>Celeste</td>\n",
       "      <td>F</td>\n",
       "      <td>2</td>\n",
       "      <td>Williams</td>\n",
       "      <td>211.22567</td>\n",
       "      <td>free</td>\n",
       "      <td>Klamath Falls, OR</td>\n",
       "      <td>438</td>\n",
       "      <td>Nothing On But The Radio</td>\n",
       "      <td>53</td>\n",
       "    </tr>\n",
       "    <tr>\n",
       "      <th>3</th>\n",
       "      <td>Charttraxx Karaoke</td>\n",
       "      <td>Celeste</td>\n",
       "      <td>F</td>\n",
       "      <td>3</td>\n",
       "      <td>Williams</td>\n",
       "      <td>225.17506</td>\n",
       "      <td>free</td>\n",
       "      <td>Klamath Falls, OR</td>\n",
       "      <td>438</td>\n",
       "      <td>Fireflies</td>\n",
       "      <td>53</td>\n",
       "    </tr>\n",
       "    <tr>\n",
       "      <th>4</th>\n",
       "      <td>The Libertines</td>\n",
       "      <td>Jacqueline</td>\n",
       "      <td>F</td>\n",
       "      <td>1</td>\n",
       "      <td>Lynch</td>\n",
       "      <td>179.53914</td>\n",
       "      <td>paid</td>\n",
       "      <td>Atlanta-Sandy Springs-Roswell, GA</td>\n",
       "      <td>389</td>\n",
       "      <td>The Good Old Days</td>\n",
       "      <td>29</td>\n",
       "    </tr>\n",
       "  </tbody>\n",
       "</table>\n",
       "</div>"
      ],
      "text/plain": [
       "                                         artist_name       fname gender  \\\n",
       "0                                           Pavement      Sylvie      F   \n",
       "1  Barry Tuckwell/Academy of St Martin-in-the-Fie...     Celeste      F   \n",
       "2                                         Gary Allan     Celeste      F   \n",
       "3                                 Charttraxx Karaoke     Celeste      F   \n",
       "4                                     The Libertines  Jacqueline      F   \n",
       "\n",
       "   item_in_session_number     lname     length level  \\\n",
       "0                       0      Cruz   99.16036  free   \n",
       "1                       1  Williams  277.15873  free   \n",
       "2                       2  Williams  211.22567  free   \n",
       "3                       3  Williams  225.17506  free   \n",
       "4                       1     Lynch  179.53914  paid   \n",
       "\n",
       "                                       location  session_number  \\\n",
       "0  Washington-Arlington-Alexandria, DC-VA-MD-WV             345   \n",
       "1                             Klamath Falls, OR             438   \n",
       "2                             Klamath Falls, OR             438   \n",
       "3                             Klamath Falls, OR             438   \n",
       "4             Atlanta-Sandy Springs-Roswell, GA             389   \n",
       "\n",
       "                                          song_title  user_id  \n",
       "0                               Mercy:The Laundromat       10  \n",
       "1  Horn Concerto No. 4 in E flat K495: II. Romanc...       53  \n",
       "2                           Nothing On But The Radio       53  \n",
       "3                                          Fireflies       53  \n",
       "4                                  The Good Old Days       29  "
      ]
     },
     "execution_count": 2,
     "metadata": {},
     "output_type": "execute_result"
    }
   ],
   "source": [
    "df.head()"
   ]
  },
  {
   "cell_type": "code",
   "execution_count": 3,
   "metadata": {},
   "outputs": [
    {
     "data": {
      "text/plain": [
       "(6820, 11)"
      ]
     },
     "execution_count": 3,
     "metadata": {},
     "output_type": "execute_result"
    }
   ],
   "source": [
    "df.shape"
   ]
  },
  {
   "cell_type": "code",
   "execution_count": 4,
   "metadata": {},
   "outputs": [
    {
     "data": {
      "text/plain": [
       "artist_name                object\n",
       "fname                      object\n",
       "gender                     object\n",
       "item_in_session_number      int64\n",
       "lname                      object\n",
       "length                    float64\n",
       "level                      object\n",
       "location                   object\n",
       "session_number              int64\n",
       "song_title                 object\n",
       "user_id                     int64\n",
       "dtype: object"
      ]
     },
     "execution_count": 4,
     "metadata": {},
     "output_type": "execute_result"
    }
   ],
   "source": [
    "df.dtypes"
   ]
  },
  {
   "cell_type": "markdown",
   "metadata": {},
   "source": [
    "\n",
    "##  The image below is a screenshot of what the data appears like in the event_data.csv\n",
    "\n",
    "<img src=\"event_data_image.jpg\">"
   ]
  },
  {
   "cell_type": "markdown",
   "metadata": {},
   "source": [
    "#### Creating a Cluster"
   ]
  },
  {
   "cell_type": "code",
   "execution_count": 5,
   "metadata": {},
   "outputs": [],
   "source": [
    "# Task: Make a connection to the cassandra instance on your local machine(127.0.0.1) and \n",
    "# create a session to establish connection and begin executing queries"
   ]
  },
  {
   "cell_type": "code",
   "execution_count": 6,
   "metadata": {},
   "outputs": [],
   "source": [
    "\n",
    "from cassandra.cluster import Cluster\n",
    "try: \n",
    "    cluster = Cluster(['127.0.0.1']) #If you have a locally installed Apache Cassandra instance\n",
    "    session = cluster.connect()\n",
    "except Exception as e:\n",
    "    print(e)\n",
    " "
   ]
  },
  {
   "cell_type": "markdown",
   "metadata": {},
   "source": [
    "#### Create & Set Keyspace"
   ]
  },
  {
   "cell_type": "code",
   "execution_count": 7,
   "metadata": {},
   "outputs": [],
   "source": [
    "# Task: Create a Keyspace and Set KEYSPACE to the keyspace specified above\n",
    "try:\n",
    "    session.execute(\"\"\"CREATE KEYSPACE IF NOT EXISTS nosqldb WITH REPLICATION = \n",
    "                        { 'class' : 'SimpleStrategy', 'replication_factor' : 1 }\"\"\")\n",
    "   \n",
    "    session.set_keyspace(\"nosqldb\")\n",
    "\n",
    "except Exception as e:\n",
    "    print(e)"
   ]
  },
  {
   "cell_type": "markdown",
   "metadata": {},
   "source": [
    "# List of Queries \n",
    "\n",
    "### 1. Find the artist_name, song_title and length of song the SoundCloud app history that was heard during  session_number = 338, and item_in_session_number  = 4\n",
    "\n",
    "\n",
    "### 2. Find the artist_name, song_title (sorted by item_in_session_number) and name(fname and lname) of the user for user_id = 10, session_number = 182\n",
    "    \n",
    "\n",
    "### 3. Find every name(fname and lname) of the user from the SoundCloud app history that listened to the song_title 'All Hands Against His Own'\n",
    "\n",
    "\n"
   ]
  },
  {
   "cell_type": "markdown",
   "metadata": {},
   "source": [
    "### Query1 Table1: How should we model this data? Think about what should be our Primary Key/Partition Key/Clustering Key"
   ]
  },
  {
   "cell_type": "code",
   "execution_count": 8,
   "metadata": {},
   "outputs": [],
   "source": [
    "## Task: Query 1: Find the artist_name, song_title and length of song the SoundCloud app history \n",
    "## that was heard during session_number = 338, and item_in_session_number = 4\n",
    "## make use of create table command  \n",
    "\n",
    "query = \"CREATE TABLE IF NOT EXISTS session_table \"\n",
    "\n",
    "query = query + \"(artist_name text, song_title varchar, length float, session_number int, item_in_session_number int, PRIMARY KEY (session_number, item_in_session_number))\"\n",
    "try:\n",
    "    session.execute(query)\n",
    "except Exception as e:\n",
    "   \n",
    "    print(e)\n",
    "    \n"
   ]
  },
  {
   "cell_type": "markdown",
   "metadata": {},
   "source": [
    "### Let's insert our data into of table"
   ]
  },
  {
   "cell_type": "code",
   "execution_count": 9,
   "metadata": {
    "scrolled": false
   },
   "outputs": [],
   "source": [
    "# We have provided part of the code to set up the CSV file. Please complete the Apache Cassandra code below#\n",
    "file_name = 'event_data.csv'\n",
    "\n",
    "with open(file_name, encoding = 'utf8') as f:\n",
    "    csv_reader = csv.reader(f)\n",
    "    next(csv_reader) # skip the header in the csv file\n",
    "    for row in csv_reader:\n",
    "## Task: Write the INSERT statements and assign it to the query variable\n",
    "        query = \"INSERT INTO session_table (artist_name, song_title, length, session_number, item_in_session_number)\"\n",
    "        query = query + \"VALUES (%s, %s, %s, %s, %s)\"\n",
    "        \n",
    "        ## Task: Match the column in the csv file to the column in the INSERT statement.\n",
    "        ## e.g., if you want to INSERT gender from csv file into the database you will use row[2]\n",
    "        ## e.g., if you want to INSERT location from csv file into database you will use row[7]\n",
    "        session.execute(query, (row[0], row[9], float(row[5]), int(row[8]), int(row[3])))"
   ]
  },
  {
   "cell_type": "markdown",
   "metadata": {},
   "source": [
    "### Validate our Data Model using a SELECT"
   ]
  },
  {
   "cell_type": "code",
   "execution_count": 10,
   "metadata": {
    "scrolled": true
   },
   "outputs": [
    {
     "name": "stdout",
     "output_type": "stream",
     "text": [
      "Faithless Music Matters (Mark Knight Dub) 495.30731201171875 338 4\n"
     ]
    }
   ],
   "source": [
    "## Task: Make use of the SELECT statement and for loop to check if your query works and display the results\n",
    "query = \"SELECT * FROM session_table WHERE session_number = 338 and item_in_session_number = 4\"\n",
    "try:\n",
    "    rows = session.execute(query)\n",
    "except Exception as e:\n",
    "    print(e)\n",
    "\n",
    "for row in rows:\n",
    "    print(row.artist_name, row.song_title, row.length, row.session_number, row.item_in_session_number)\n",
    "    "
   ]
  },
  {
   "cell_type": "markdown",
   "metadata": {},
   "source": [
    "### Query2 Table2: How should we model this data? Think about what should be our Primary Key/Partition Key/Clustering Key "
   ]
  },
  {
   "cell_type": "code",
   "execution_count": 11,
   "metadata": {},
   "outputs": [],
   "source": [
    "## Task: Query 2: Find the artist_name, song_title (sorted by item_in_session_number) and \n",
    "## name(fname and lname) of the user for user_id = 10, session_number = 182 \n",
    "## make use of create table command\n",
    "query = \"CREATE TABLE IF NOT EXISTS user_table\"\n",
    "query = query + \"(artist_name text, fname text, lname text,song_title varchar, session_number int, user_id int, item_in_session_number int, PRIMARY KEY ((user_id, session_number), item_in_session_number, fname, lname)) WITH CLUSTERING ORDER BY (item_in_session_number ASC, fname ASC, lname ASC);\"\n",
    "try:\n",
    "    session.execute(query)\n",
    "except Exception as e:\n",
    "    print(e)\n"
   ]
  },
  {
   "cell_type": "markdown",
   "metadata": {},
   "source": [
    "### Let's insert our data into of table"
   ]
  },
  {
   "cell_type": "code",
   "execution_count": 12,
   "metadata": {
    "scrolled": false
   },
   "outputs": [],
   "source": [
    "# We have provided part of the code to set up the CSV file. Please complete the Apache Cassandra code below#\n",
    "file_name = 'event_data.csv'\n",
    "\n",
    "with open(file_name, encoding = 'utf8') as f:\n",
    "    csv_reader = csv.reader(f)\n",
    "    next(csv_reader) # skip the header in the csv file\n",
    "    for row in csv_reader:\n",
    "## Task: Write the INSERT statements and assign it to the query variable\n",
    "        query =   \"INSERT INTO user_table (artist_name, fname, lname, song_title, session_number, user_id, item_in_session_number)\"\n",
    "        query = query + \"VALUES (%s, %s, %s, %s, %s, %s, %s)\"\n",
    "        \n",
    "        ## Task: Match the column in the csv file to the column in the INSERT statement.\n",
    "        ## e.g., if you want to INSERT gender from csv file into the database you will use row[2]\n",
    "        ## e.g., if you want to INSERT location from csv file into database you will use row[7]\n",
    "        session.execute(query, (row[0], row[1], row[4], row[9], int(row[8]), int(row[10]), int(row[3])))"
   ]
  },
  {
   "cell_type": "markdown",
   "metadata": {},
   "source": [
    "### Validate our Data Model using a SELECT"
   ]
  },
  {
   "cell_type": "code",
   "execution_count": 13,
   "metadata": {
    "scrolled": true
   },
   "outputs": [
    {
     "name": "stdout",
     "output_type": "stream",
     "text": [
      "Down To The Bone Sylvie Cruz Keep On Keepin' On 182 10 0\n",
      "Three Drives Sylvie Cruz Greece 2000 182 10 1\n",
      "Sebastien Tellier Sylvie Cruz Kilometer 182 10 2\n",
      "Lonnie Gordon Sylvie Cruz Catch You Baby (Steve Pitron & Max Sanna Radio Edit) 182 10 3\n"
     ]
    }
   ],
   "source": [
    "## Task: Make use of the SELECT statement and for loop to check if your query works and display the results\n",
    "## Task: Make use of the SELECT statement and for loop to check if your query works and display the results\n",
    "\n",
    "query = \"SELECT * FROM user_table WHERE session_number = 182 and user_id = 10 ALLOW FILTERING\"\n",
    "try:\n",
    "    rows = session.execute(query)\n",
    "except Exception as e:\n",
    "    print(e)\n",
    "    \n",
    "for row in rows:\n",
    "    print(row.artist_name, row.fname, row.lname, row.song_title, row.session_number, row.user_id, row.item_in_session_number)\n",
    "    "
   ]
  },
  {
   "cell_type": "markdown",
   "metadata": {},
   "source": [
    "### Query3 Table3: How should we model this data? Think about what should be our Primary Key/Partition Key/Clustering Key"
   ]
  },
  {
   "cell_type": "code",
   "execution_count": 15,
   "metadata": {},
   "outputs": [],
   "source": [
    "## Task: Query 3: Find every name(first and lastname) of the user from the SoundCloud app history that listened \n",
    "## to the song_title 'All Hands Against His Own'\n",
    "## make use of create table command\n",
    "## Task: Make use of the SELECT statement and for loop to check if your query works and display the results\n",
    "\n",
    "query = \"CREATE TABLE IF NOT EXISTS user_song_table\"\n",
    "query = query + \"(fname text, lname text, song_title varchar, user_id int, PRIMARY KEY(user_id, song_title))\"\n",
    "try:\n",
    "    session.execute(query)\n",
    "except Exception as e:\n",
    "    print(e)"
   ]
  },
  {
   "cell_type": "markdown",
   "metadata": {},
   "source": [
    "### Let's insert our data into of table"
   ]
  },
  {
   "cell_type": "code",
   "execution_count": 17,
   "metadata": {
    "scrolled": false
   },
   "outputs": [],
   "source": [
    "# We have provided part of the code to set up the CSV file. Please complete the Apache Cassandra code below#\n",
    "file_name = 'event_data.csv'\n",
    "\n",
    "with open(file_name, encoding = 'utf8') as f:\n",
    "    csv_reader = csv.reader(f)\n",
    "    next(csv_reader) # skip the header in the csv file\n",
    "    for row in csv_reader:\n",
    "## Task: Write the INSERT statements and assign it to the query variable\n",
    "        query = \"INSERT INTO user_song_table (fname, lname, song_title, user_id)\"\n",
    "        query = query + \"VALUES (%s, %s, %s, %s)\"\n",
    "        \n",
    "        ## Task: Match the column in the csv file to the column in the INSERT statement.\n",
    "        ## e.g., if you want to INSERT gender from csv file into the database you will use row[2]\n",
    "        ## e.g., if you want to INSERT location from csv file into database you will use row[7]\n",
    "        session.execute(query, (row[1], row[4], row[9], int(row[10])))"
   ]
  },
  {
   "cell_type": "markdown",
   "metadata": {},
   "source": [
    "### Validate our Data Model using a SELECT"
   ]
  },
  {
   "cell_type": "code",
   "execution_count": 18,
   "metadata": {
    "scrolled": true
   },
   "outputs": [
    {
     "name": "stdout",
     "output_type": "stream",
     "text": [
      "Sara Johnson All Hands Against His Own\n",
      "Tegan Levine All Hands Against His Own\n",
      "Jacqueline Lynch All Hands Against His Own\n"
     ]
    }
   ],
   "source": [
    "## Task: Make use of the SELECT statement and for loop to check if your query works and display the results\n",
    "query = \"SELECT * FROM user_song_table WHERE song_title = 'All Hands Against His Own' ALLOW FILTERING\"\n",
    "try:\n",
    "    rows = session.execute(query)\n",
    "except Exception as e:\n",
    "    print(e)\n",
    "    \n",
    "for row in rows:\n",
    "    print(row.fname, row.lname, row.song_title)"
   ]
  },
  {
   "cell_type": "markdown",
   "metadata": {},
   "source": [
    "### Drop the tables before closing out the sessions"
   ]
  },
  {
   "cell_type": "code",
   "execution_count": 19,
   "metadata": {},
   "outputs": [
    {
     "name": "stdout",
     "output_type": "stream",
     "text": [
      "Error from server: code=2200 [Invalid query] message=\"unconfigured table user_table\"\n",
      "Error from server: code=2200 [Invalid query] message=\"unconfigured table song_table\"\n"
     ]
    }
   ],
   "source": [
    "query = \"drop table user_table\"\n",
    "try:\n",
    "    rows = session.execute(query)\n",
    "except Exception as e:\n",
    "    print(e)\n",
    "    \n",
    "query = \"drop table user_table\"\n",
    "try:\n",
    "    rows = session.execute(query)\n",
    "except Exception as e:\n",
    "    print(e)\n",
    "    \n",
    "query = \"drop table song_table\"\n",
    "try:\n",
    "    rows = session.execute(query)\n",
    "except Exception as e:\n",
    "    print(e)    \n",
    "    "
   ]
  },
  {
   "cell_type": "markdown",
   "metadata": {},
   "source": [
    "### Close the session and cluster connection¶"
   ]
  },
  {
   "cell_type": "code",
   "execution_count": 20,
   "metadata": {},
   "outputs": [],
   "source": [
    "session.shutdown()\n",
    "cluster.shutdown()"
   ]
  },
  {
   "cell_type": "code",
   "execution_count": null,
   "metadata": {},
   "outputs": [],
   "source": []
  }
 ],
 "metadata": {
  "kernelspec": {
   "display_name": "Python 3",
   "language": "python",
   "name": "python3"
  },
  "language_info": {
   "codemirror_mode": {
    "name": "ipython",
    "version": 3
   },
   "file_extension": ".py",
   "mimetype": "text/x-python",
   "name": "python",
   "nbconvert_exporter": "python",
   "pygments_lexer": "ipython3",
   "version": "3.8.5"
  }
 },
 "nbformat": 4,
 "nbformat_minor": 2
}
